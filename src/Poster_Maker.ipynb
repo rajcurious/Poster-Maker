{
  "nbformat": 4,
  "nbformat_minor": 0,
  "metadata": {
    "colab": {
      "name": "Poster Maker.ipynb",
      "provenance": []
    },
    "kernelspec": {
      "name": "python3",
      "display_name": "Python 3"
    },
    "language_info": {
      "name": "python"
    }
  },
  "cells": [
    {
      "cell_type": "code",
      "execution_count": 2,
      "metadata": {
        "id": "smrz8Kqj20UP"
      },
      "outputs": [],
      "source": [
        "import os\n",
        "import numpy as np\n",
        "import matplotlib.pyplot as plt\n",
        "from tensorflow.keras.preprocessing.image import img_to_array,array_to_img,load_img\n",
        "from queue import PriorityQueue\n",
        "from PIL import Image"
      ]
    },
    {
      "cell_type": "code",
      "source": [
        "DIRPATH='/content'\n",
        "li=os.listdir(DIRPATH)\n",
        "img_paths=[]\n",
        "for i in li:\n",
        "  if(i.find('jpg')!=-1 or i.find('png')!=-1):\n",
        "    img_paths.append(i)\n",
        "\n",
        "shapes=[]\n",
        "images=[]\n",
        "for path in img_paths:\n",
        "  img=load_img(os.path.join(DIRPATH,path))\n",
        "  images.append(img)\n",
        "  img=img_to_array(img)\n",
        "  shapes.append([list(img.shape[:2]),img.shape[0]/img.shape[1]])\n",
        "\n",
        "mxw=-1e9\n",
        "H=0\n",
        "for i in shapes:\n",
        "  mxw=max(i[0][1],mxw)\n",
        "mxw=W=mxw*2\n",
        "\n",
        "PADDING=20\n",
        "IMGW=(W-4*PADDING)//3\n",
        "ZONES=[PADDING,2*PADDING+IMGW,3*PADDING+2*IMGW]\n",
        "\n",
        "q=PriorityQueue()\n",
        "for i in range(3): q.put((PADDING,i))\n",
        "\n",
        "imq=PriorityQueue()\n",
        "H=0\n",
        "for id,i in enumerate(shapes):\n",
        "  temp=int(i[1]*IMGW)\n",
        "  H+=temp\n",
        "  imq.put((-temp,id))\n",
        "\n",
        "paper=np.zeros(shape=(H,W,3),dtype=np.uint8)\n",
        "\n",
        "def resize(img,size):\n",
        "  img=img.resize(size)\n",
        "  return img_to_array(img)\n",
        "\n",
        "def showImg(img):\n",
        "  img=array_to_img(img)\n",
        "  return img\n",
        "  \n",
        "H=0\n",
        "  \n",
        "while(imq.qsize()):\n",
        "  h,z=q.get()\n",
        "  th,id=imq.get()\n",
        "  th=-th\n",
        "  paper[h:h+th,ZONES[z]:ZONES[z]+IMGW]=resize(images[id],(IMGW,th))\n",
        "  nh=h+PADDING+th\n",
        "  H=max(nh,H)\n",
        "  q.put((nh,z))\n",
        "   \n",
        "paper=paper[:H,:]\n",
        "  \n",
        "showImg(paper)"
      ],
      "metadata": {
        "id": "UXRk8hmC29bF"
      },
      "execution_count": 4,
      "outputs": []
    },
    {
      "cell_type": "code",
      "source": [
        "paper.shape"
      ],
      "metadata": {
        "id": "8gYUQklezhnJ",
        "outputId": "de7d7997-a081-41ad-9454-862a4206a644",
        "colab": {
          "base_uri": "https://localhost:8080/",
          "height": 165
        }
      },
      "execution_count": 3,
      "outputs": [
        {
          "output_type": "error",
          "ename": "NameError",
          "evalue": "ignored",
          "traceback": [
            "\u001b[0;31m---------------------------------------------------------------------------\u001b[0m",
            "\u001b[0;31mNameError\u001b[0m                                 Traceback (most recent call last)",
            "\u001b[0;32m<ipython-input-3-4aa0e54254da>\u001b[0m in \u001b[0;36m<module>\u001b[0;34m()\u001b[0m\n\u001b[0;32m----> 1\u001b[0;31m \u001b[0mpaper\u001b[0m\u001b[0;34m.\u001b[0m\u001b[0mshape\u001b[0m\u001b[0;34m\u001b[0m\u001b[0;34m\u001b[0m\u001b[0m\n\u001b[0m",
            "\u001b[0;31mNameError\u001b[0m: name 'paper' is not defined"
          ]
        }
      ]
    },
    {
      "cell_type": "code",
      "source": [
        "array_to_img(paper).save('kristinStewart.jpg')"
      ],
      "metadata": {
        "colab": {
          "base_uri": "https://localhost:8080/",
          "height": 165
        },
        "id": "aMGnvLBeVlT5",
        "outputId": "60e5759b-4b17-4659-a646-d2426f214169"
      },
      "execution_count": 1,
      "outputs": [
        {
          "output_type": "error",
          "ename": "NameError",
          "evalue": "ignored",
          "traceback": [
            "\u001b[0;31m---------------------------------------------------------------------------\u001b[0m",
            "\u001b[0;31mNameError\u001b[0m                                 Traceback (most recent call last)",
            "\u001b[0;32m<ipython-input-1-f6160dd1c3f9>\u001b[0m in \u001b[0;36m<module>\u001b[0;34m()\u001b[0m\n\u001b[0;32m----> 1\u001b[0;31m \u001b[0marray_to_img\u001b[0m\u001b[0;34m(\u001b[0m\u001b[0mpaper\u001b[0m\u001b[0;34m)\u001b[0m\u001b[0;34m.\u001b[0m\u001b[0msave\u001b[0m\u001b[0;34m(\u001b[0m\u001b[0;34m'kristinStewart.jpg'\u001b[0m\u001b[0;34m)\u001b[0m\u001b[0;34m\u001b[0m\u001b[0;34m\u001b[0m\u001b[0m\n\u001b[0m",
            "\u001b[0;31mNameError\u001b[0m: name 'array_to_img' is not defined"
          ]
        }
      ]
    }
  ]
}